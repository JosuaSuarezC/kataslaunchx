{
 "cells": [
  {
   "cell_type": "markdown",
   "metadata": {},
   "source": [
    "# Alerta de asteroide cercano a la tierra"
   ]
  },
  {
   "cell_type": "code",
   "execution_count": 5,
   "metadata": {},
   "outputs": [
    {
     "name": "stdout",
     "output_type": "stream",
     "text": [
      "Cuidado hay un asteroide acercandose a la tierra\n"
     ]
    }
   ],
   "source": [
    "vast = 49\n",
    "if vast > 25:\n",
    "    print(\"Cuidado hay un asteroide acercandose a la tierra\")\n",
    "else:\n",
    "    print(\"No hay ningun peligro\")"
   ]
  },
  {
   "cell_type": "markdown",
   "metadata": {},
   "source": [
    "## Rayo de luz por un asteroide"
   ]
  },
  {
   "cell_type": "code",
   "execution_count": 6,
   "metadata": {},
   "outputs": [
    {
     "name": "stdout",
     "output_type": "stream",
     "text": [
      "Observa el cielo hay un asteroide aproximandose a la tierra\n"
     ]
    }
   ],
   "source": [
    "vast = 49\n",
    "if vast > 20:\n",
    "    print(\"Observa el cielo hay un asteroide aproximandose a la tierra\")\n",
    "elif vast == 20:\n",
    "    print(\"Observa el cielo hay un asteroide aproximandose a la tierra\")\n",
    "else:\n",
    "    print(\"Solo hay pajarillos para observar\")\n",
    "        "
   ]
  },
  {
   "cell_type": "markdown",
   "metadata": {},
   "source": [
    "## And y or"
   ]
  },
  {
   "cell_type": "code",
   "execution_count": 10,
   "metadata": {},
   "outputs": [
    {
     "name": "stdout",
     "output_type": "stream",
     "text": [
      "Cuidado un asteroide acercandose a la tierra\n"
     ]
    }
   ],
   "source": [
    "vast = 25\n",
    "tast = 30\n",
    "if vast > 25 and tast > 25:\n",
    "    print (\"Cuidado un asteroide acercandose a la tierra\")\n",
    "elif vast > 25 or tast > 25:\n",
    "    print (\"Cuidado un asteroide acercandose a la tierra\")\n",
    "elif vast >= 20:\n",
    "    print(\"Observa el cielo hay un asteroide aproximandose a la tierra\")\n",
    "else:\n",
    "    print(\"Solo hay pajarillos para observar\")\n"
   ]
  }
 ],
 "metadata": {
  "interpreter": {
   "hash": "b0723373aa327587295adffb7e30f5636ab3160d79e72ec04ccc8052c698326b"
  },
  "kernelspec": {
   "display_name": "Python 3.10.2 64-bit",
   "language": "python",
   "name": "python3"
  },
  "language_info": {
   "codemirror_mode": {
    "name": "ipython",
    "version": 3
   },
   "file_extension": ".py",
   "mimetype": "text/x-python",
   "name": "python",
   "nbconvert_exporter": "python",
   "pygments_lexer": "ipython3",
   "version": "3.10.2"
  },
  "orig_nbformat": 4
 },
 "nbformat": 4,
 "nbformat_minor": 2
}
