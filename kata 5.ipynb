{
 "cells": [
  {
   "cell_type": "markdown",
   "metadata": {},
   "source": [
    "# Operadores aritmericos\n",
    "## Distancia entre dos planetas"
   ]
  },
  {
   "cell_type": "code",
   "execution_count": 9,
   "metadata": {},
   "outputs": [
    {
     "name": "stdout",
     "output_type": "stream",
     "text": [
      "La distancia entre la Tierra y Jupiter es: 628949330 km\n"
     ]
    }
   ],
   "source": [
    "dT = 149597870\n",
    "dJ = 778547200\n",
    "distancia = abs(dT-dJ)\n",
    "print(\"La distancia entre la Tierra y Jupiter es: \"+ str(distancia ) + \" km\")\n"
   ]
  },
  {
   "cell_type": "code",
   "execution_count": 12,
   "metadata": {},
   "outputs": [
    {
     "name": "stdout",
     "output_type": "stream",
     "text": [
      "La distancia en millas es: 390577534 mi\n"
     ]
    }
   ],
   "source": [
    "distancia_millas = round(distancia*0.621)\n",
    "print(\"La distancia en millas es: \" +str(distancia_millas) + \" mi\")"
   ]
  },
  {
   "cell_type": "markdown",
   "metadata": {},
   "source": [
    "## Convertir cadenas en numeros y usar valores absolutos"
   ]
  },
  {
   "cell_type": "code",
   "execution_count": 22,
   "metadata": {},
   "outputs": [
    {
     "name": "stdout",
     "output_type": "stream",
     "text": [
      "La distancia en km entre ambos planetas es: 8 km\n",
      "La distancia en mi entre ambos planetas es: 5 mi\n"
     ]
    }
   ],
   "source": [
    "p1 = input('Cual es la distacia del primer planeta con respecto al sol en km?')\n",
    "p2 = input('Cual es la distancia del segundo planeta con respecto al sol en km?')\n",
    "\n",
    "p1 = int(p1)\n",
    "p2 = int(p2)\n",
    "\n",
    "distancia_p = abs(p1-p2)\n",
    "print('La distancia en km entre ambos planetas es: '+str(distancia_p) + ' km')\n",
    "\n",
    "distancia_pmi = round(distancia_p * 0.621)\n",
    "print('La distancia en mi entre ambos planetas es: ' + str(distancia_pmi) + ' mi')\n"
   ]
  }
 ],
 "metadata": {
  "interpreter": {
   "hash": "b0723373aa327587295adffb7e30f5636ab3160d79e72ec04ccc8052c698326b"
  },
  "kernelspec": {
   "display_name": "Python 3.10.2 64-bit",
   "language": "python",
   "name": "python3"
  },
  "language_info": {
   "codemirror_mode": {
    "name": "ipython",
    "version": 3
   },
   "file_extension": ".py",
   "mimetype": "text/x-python",
   "name": "python",
   "nbconvert_exporter": "python",
   "pygments_lexer": "ipython3",
   "version": "3.10.2"
  },
  "orig_nbformat": 4
 },
 "nbformat": 4,
 "nbformat_minor": 2
}
