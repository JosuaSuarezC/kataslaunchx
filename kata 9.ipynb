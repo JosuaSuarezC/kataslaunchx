{
 "cells": [
  {
   "cell_type": "markdown",
   "metadata": {},
   "source": [
    "## Ejercicio 1"
   ]
  },
  {
   "cell_type": "code",
   "execution_count": 1,
   "metadata": {},
   "outputs": [],
   "source": [
    "def reporte(tanque_1, tanque_2, tanque_3):\n",
    "    tprom = (tanque_1 + tanque_2 + tanque_3)/3\n",
    "    return f\"\"\"Comb Report:\n",
    "    Tprom: {tprom}%\n",
    "    Tanque_1: {tanque_1}%\n",
    "    Tanque_2: {tanque_2}%\n",
    "    Tanque_3: {tanque_3}%\n",
    "    \"\"\""
   ]
  },
  {
   "cell_type": "code",
   "execution_count": 3,
   "metadata": {},
   "outputs": [
    {
     "name": "stdout",
     "output_type": "stream",
     "text": [
      "Comb Report:\n",
      "    Tprom: 40.0%\n",
      "    Tanque_1: 30%\n",
      "    Tanque_2: 40%\n",
      "    Tanque_3: 50%\n",
      "    \n"
     ]
    }
   ],
   "source": [
    "print(reporte(30, 40, 50))"
   ]
  },
  {
   "cell_type": "code",
   "execution_count": 4,
   "metadata": {},
   "outputs": [
    {
     "data": {
      "text/plain": [
       "80.0"
      ]
     },
     "execution_count": 4,
     "metadata": {},
     "output_type": "execute_result"
    }
   ],
   "source": [
    "def prom(values):\n",
    "    total = sum(values)\n",
    "    ndat = len(values)\n",
    "    return total / ndat\n",
    "\n",
    "prom([70, 80, 90])"
   ]
  },
  {
   "cell_type": "code",
   "execution_count": 5,
   "metadata": {},
   "outputs": [
    {
     "name": "stdout",
     "output_type": "stream",
     "text": [
      "Comb Report:\n",
      "    tprom: 86.0%\n",
      "    Tanque_1: 85%\n",
      "    Tanque_2: 86%\n",
      "    Tanque_3: 87%\n",
      "    \n"
     ]
    }
   ],
   "source": [
    "def report(tanque_1, tanque_2, tanque_3):\n",
    "    return f\"\"\"Comb Report:\n",
    "    tprom: {prom([tanque_1, tanque_2, tanque_3])}%\n",
    "    Tanque_1: {tanque_1}%\n",
    "    Tanque_2: {tanque_2}%\n",
    "    Tanque_3: {tanque_3}%\n",
    "    \"\"\"\n",
    "print(report(85, 86, 87))"
   ]
  },
  {
   "cell_type": "markdown",
   "metadata": {},
   "source": [
    "## Ejercicio 2"
   ]
  },
  {
   "cell_type": "code",
   "execution_count": 14,
   "metadata": {},
   "outputs": [
    {
     "name": "stdout",
     "output_type": "stream",
     "text": [
      "\n",
      "   Mision a Luna\n",
      "   Tiempo total: 65 minutos\n",
      "   Combustible sobrante: 500000 galones\n",
      "   \n"
     ]
    }
   ],
   "source": [
    "def mrep(desp, vuelo, destino, tanque_1, tanque_2):\n",
    "   return f\"\"\"\n",
    "   Mision a {destino}\n",
    "   Tiempo total: {desp + vuelo} minutos\n",
    "   Combustible sobrante: {tanque_1 + tanque_2} galones\n",
    "   \"\"\"\n",
    "print(mrep(14,51,\"Luna\", 200000, 300000))"
   ]
  },
  {
   "cell_type": "code",
   "execution_count": 15,
   "metadata": {},
   "outputs": [
    {
     "name": "stdout",
     "output_type": "stream",
     "text": [
      "\n",
      "    Mision a Luna\n",
      "    Tiempo total: 76 minutos\n",
      "    Combustible sobrante: 500000\n",
      "    \n"
     ]
    }
   ],
   "source": [
    "def mrep (destino, *minutes, **combres):\n",
    "    return f\"\"\"\n",
    "    Mision a {destino}\n",
    "    Tiempo total: {sum(minutes)} minutos\n",
    "    Combustible sobrante: {sum(combres.values())}\n",
    "    \"\"\"\n",
    "print (mrep(\"Luna\", 10, 15, 51, tanque1=300000, tanque2=200000))"
   ]
  },
  {
   "cell_type": "code",
   "execution_count": 17,
   "metadata": {},
   "outputs": [
    {
     "name": "stdout",
     "output_type": "stream",
     "text": [
      "<function mrep at 0x0000006881347B50>\n"
     ]
    }
   ],
   "source": [
    "def mrep(destino, *minutos, **combres):\n",
    "    prep = f\"\"\"\n",
    "    Mision a {destino}\n",
    "    Tiempo total: {sum(minutos)} minutos\n",
    "    Combustible sobrante: {sum(combres.values())}\n",
    "    \"\"\"\n",
    "    for tank_name, galones in combres.items():\n",
    "        prep += f\"{tank_name} tank--> {galones} galones sobrantes\\n\"\n",
    "    return mrep\n",
    "print(mrep(\"Luna\", 8, 11, 15, 55, tanque1=300000, tanque2=200000))    "
   ]
  }
 ],
 "metadata": {
  "interpreter": {
   "hash": "b0723373aa327587295adffb7e30f5636ab3160d79e72ec04ccc8052c698326b"
  },
  "kernelspec": {
   "display_name": "Python 3.10.2 64-bit",
   "language": "python",
   "name": "python3"
  },
  "language_info": {
   "codemirror_mode": {
    "name": "ipython",
    "version": 3
   },
   "file_extension": ".py",
   "mimetype": "text/x-python",
   "name": "python",
   "nbconvert_exporter": "python",
   "pygments_lexer": "ipython3",
   "version": "3.10.2"
  },
  "orig_nbformat": 4
 },
 "nbformat": 4,
 "nbformat_minor": 2
}
